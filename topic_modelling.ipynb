{
 "cells": [
  {
   "cell_type": "markdown",
   "metadata": {},
   "source": [
    "# Topic Modelling\n",
    "This notebook aims to visualize the topics of the corpus using LDA, BertTopic and WordClouds."
   ]
  },
  {
   "cell_type": "markdown",
   "metadata": {},
   "source": [
    "## Data\n",
    "The most similar documents have been queried in another file and saved in a csv file. \n",
    "This file is loaded here and further used."
   ]
  },
  {
   "cell_type": "code",
   "execution_count": 1,
   "metadata": {},
   "outputs": [
    {
     "name": "stdout",
     "output_type": "stream",
     "text": [
      "{'tfidf': {'/Users/klara/Documents/Uni/bachelorarbeit/data/0/SAC53-21.pdf': ['/Users/klara/Documents/Uni/bachelorarbeit/data/0/SAC53-21.pdf', '/Users/klara/Documents/Uni/bachelorarbeit/data/0/SAC53-26.pdf', '/Users/klara/Documents/Uni/bachelorarbeit/data/0/SAC72-5.pdf', '/Users/klara/Documents/Uni/bachelorarbeit/data/0/SAC54-23.pdf', '/Users/klara/Documents/Uni/bachelorarbeit/data/0/SAC18-9.pdf', '/Users/klara/Documents/Uni/bachelorarbeit/data/0/SAC72-13.pdf', '/Users/klara/Documents/Uni/bachelorarbeit/data/0/SAC53-28.pdf', '/Users/klara/Documents/Uni/bachelorarbeit/data/0/SAC49-2.pdf', '/Users/klara/Documents/Uni/bachelorarbeit/data/0/SAC20-29.pdf', '/Users/klara/Documents/Uni/bachelorarbeit/data/0/SAC49-5.pdf']}}\n",
      "<class 'dict'>\n"
     ]
    }
   ],
   "source": [
    "import json\n",
    " \n",
    "# Opening JSON file\n",
    "with open('results/results.json', 'r') as openfile:\n",
    " \n",
    "    # Reading from json file\n",
    "    results = json.load(openfile)\n",
    " \n",
    "print(results)\n",
    "print(type(results))"
   ]
  },
  {
   "cell_type": "markdown",
   "metadata": {},
   "source": [
    "## WordClouds"
   ]
  },
  {
   "cell_type": "code",
   "execution_count": null,
   "metadata": {},
   "outputs": [],
   "source": []
  }
 ],
 "metadata": {
  "kernelspec": {
   "display_name": ".bsc-py",
   "language": "python",
   "name": "python3"
  },
  "language_info": {
   "codemirror_mode": {
    "name": "ipython",
    "version": 3
   },
   "file_extension": ".py",
   "mimetype": "text/x-python",
   "name": "python",
   "nbconvert_exporter": "python",
   "pygments_lexer": "ipython3",
   "version": "3.11.4"
  },
  "orig_nbformat": 4
 },
 "nbformat": 4,
 "nbformat_minor": 2
}
