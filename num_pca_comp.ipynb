{
 "cells": [
  {
   "cell_type": "markdown",
   "metadata": {},
   "source": [
    "# Num PCA components\n",
    "Use explained variance and reconstruction error to determine the number of PCA components to use."
   ]
  },
  {
   "cell_type": "code",
   "execution_count": 11,
   "metadata": {},
   "outputs": [],
   "source": [
    "from elasticSearch.selected_docs import select_rep_path\n",
    "import os\n",
    "from elasticSearch.recursive_search import scanRecurse"
   ]
  },
  {
   "cell_type": "markdown",
   "metadata": {},
   "source": [
    "## Data\n",
    "- local: 195 (first) files\n",
    "- server: 1000 random files across subdirectories"
   ]
  },
  {
   "cell_type": "code",
   "execution_count": 12,
   "metadata": {},
   "outputs": [],
   "source": [
    "def get_directories():\n",
    "    baseDir = '/mnt/stud/home/kgutekunst/visualizations/images/'\n",
    "    resDir = '/mnt/stud/home/kgutekunst/visualizations/'\n",
    "    if os.path.exists('/Users/klara/Documents/uni/bachelorarbeit/data/0/'):\n",
    "        baseDir = '/Users/klara/Documents/uni/bachelorarbeit/images/'\n",
    "        resDir = '/Users/klara/Developer/Uni/topic-analysis-text-data/results/'\n",
    "    return baseDir,resDir"
   ]
  },
  {
   "cell_type": "code",
   "execution_count": 13,
   "metadata": {},
   "outputs": [],
   "source": [
    "baseDir, resDir = get_directories()"
   ]
  },
  {
   "cell_type": "code",
   "execution_count": 14,
   "metadata": {},
   "outputs": [],
   "source": [
    "paths = select_rep_path(baseDir, 1000) if baseDir.startswith('/mnt/') else list(scanRecurse(baseDir))"
   ]
  },
  {
   "cell_type": "code",
   "execution_count": 15,
   "metadata": {},
   "outputs": [],
   "source": [
    "import numpy as np\n",
    "\n",
    "\n",
    "def rgb2gray(img):  # not normalized to [0,1]\n",
    "    return 0.299*img[:,:,0] + 0.587*img[:,:,1] + 0.114*img[:,:,2]\n",
    "\n",
    "def get_maximum_height_width(documents):\n",
    "    max_w = 0\n",
    "    max_h = 0\n",
    "    for doc in documents:\n",
    "        max_w = np.maximum(max_w, doc.shape[0])\n",
    "        max_h = np.maximum(max_h, doc.shape[1])\n",
    "    return max_w, max_h\n",
    "\n",
    "def proprocess_docs(raw_documents, max_w, max_h):\n",
    "    '''\n",
    "    return same sized, greyscale documents as an array\n",
    "    '''\n",
    "    documents = []\n",
    "    for doc in raw_documents:\n",
    "        # same size for all documents\n",
    "        C = np.ones((max_w,max_h))\n",
    "        # convert to grayscale\n",
    "        C[:doc.shape[0],:doc.shape[1]] = rgb2gray(doc)\n",
    "        # 2d to 1d array\n",
    "        documents.append(C.ravel())\n",
    "    # list to array\n",
    "    return np.asarray(documents)"
   ]
  },
  {
   "cell_type": "code",
   "execution_count": 16,
   "metadata": {},
   "outputs": [],
   "source": [
    "from matplotlib import pyplot as plt\n",
    "\n",
    "\n",
    "def plot_expl_var(pca, save=False, resDir:str='results/'):\n",
    "    fig, ax = plt.subplots(figsize=(10,6))\n",
    "    y = np.cumsum(pca.explained_variance_ratio_)\n",
    "    plt.plot(y, label=\"cumulative explained variance\")\n",
    "    plt.title(\"Cumulative explained variance\")\n",
    "    plt.xlabel(\"Number of components\")\n",
    "    plt.ylabel(\"Explained variance\")\n",
    "    plt.axhline(y = 0.9, color = 'r', linestyle = '-', label=\"90% explained variance\")\n",
    "    interp = np.interp(0.9, y, list(range(len(y))))\n",
    "    plt.axvline(x=interp,color='grey', label=\"{} components\".format(int(interp)))\n",
    "    plt.legend()\n",
    "    if save:\n",
    "        plt.savefig(resDir + \"cumulative_explained_variance.pdf\", format=\"pdf\")\n",
    "    plt.show()"
   ]
  },
  {
   "cell_type": "code",
   "execution_count": 17,
   "metadata": {},
   "outputs": [],
   "source": [
    "from sklearn.decomposition import PCA\n",
    "\n",
    "\n",
    "def plot_rec_err(X_train, X_test, n_max=10, save=False, resDir:str='results/'):\n",
    "    reconstr_err = []\n",
    "    for i in range(1, n_max):\n",
    "        pca = PCA(n_components=i, whiten=True, svd_solver=\"randomized\")   \n",
    "        pca.fit(X_train)\n",
    "        X_test_pca = pca.transform(X_test)\n",
    "        X_test_pca_inverse = pca.inverse_transform(X_test_pca)\n",
    "        reconstr_err.append(np.linalg.norm(X_test_pca_inverse - X_test) / np.sqrt(X_test.shape[0]))\n",
    "\n",
    "    # plot reconstruction error\n",
    "    plt.figure(figsize=(10,6))\n",
    "    plt.plot(reconstr_err, label=\"reconstruction error\")\n",
    "    plt.title(\"Reconstruction error\")\n",
    "    plt.xlabel(\"Number of components\")\n",
    "    plt.ylabel(\"Reconstruction error\")\n",
    "    plt.legend()\n",
    "    if save:\n",
    "        plt.savefig(resDir + \"reconstruction error.pdf\", format=\"pdf\")\n",
    "    plt.show()\n",
    "    "
   ]
  },
  {
   "cell_type": "code",
   "execution_count": 18,
   "metadata": {},
   "outputs": [],
   "source": [
    "documents_raw = [plt.imread(fp) for fp in paths if fp.endswith(\".png\")]"
   ]
  },
  {
   "cell_type": "code",
   "execution_count": 19,
   "metadata": {},
   "outputs": [
    {
     "name": "stdout",
     "output_type": "stream",
     "text": [
      "880 1026\n"
     ]
    }
   ],
   "source": [
    "max_w, max_h = get_maximum_height_width(documents_raw)\n",
    "print(max_w, max_h)"
   ]
  },
  {
   "cell_type": "code",
   "execution_count": 20,
   "metadata": {},
   "outputs": [],
   "source": [
    "eigendocs = proprocess_docs(documents_raw, max_w=max_w, max_h=max_h)"
   ]
  },
  {
   "cell_type": "code",
   "execution_count": 21,
   "metadata": {},
   "outputs": [],
   "source": [
    "from sklearn.model_selection import train_test_split\n",
    "\n",
    "\n",
    "X_train, X_test = train_test_split(eigendocs, random_state=0)"
   ]
  },
  {
   "cell_type": "code",
   "execution_count": 22,
   "metadata": {},
   "outputs": [],
   "source": [
    "pca = PCA(n_components=min(len(X_train), len(X_train[0])), whiten=True, svd_solver=\"randomized\")   \n",
    "pca.fit(X_train)"
   ]
  },
  {
   "cell_type": "code",
   "execution_count": null,
   "metadata": {},
   "outputs": [],
   "source": [
    "plot_expl_var(pca, save=True, resDir=resDir)"
   ]
  },
  {
   "cell_type": "code",
   "execution_count": null,
   "metadata": {},
   "outputs": [],
   "source": [
    "plot_rec_err(X_train, X_test, n_max= min(len(X_train),len(X_train[0])), save=True, resDir=resDir)"
   ]
  }
 ],
 "metadata": {
  "kernelspec": {
   "display_name": ".bsc-py",
   "language": "python",
   "name": "python3"
  },
  "language_info": {
   "codemirror_mode": {
    "name": "ipython",
    "version": 3
   },
   "file_extension": ".py",
   "mimetype": "text/x-python",
   "name": "python",
   "nbconvert_exporter": "python",
   "pygments_lexer": "ipython3",
   "version": "3.11.5"
  }
 },
 "nbformat": 4,
 "nbformat_minor": 2
}
